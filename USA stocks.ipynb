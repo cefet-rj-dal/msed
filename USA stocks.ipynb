{
 "cells": [
  {
   "cell_type": "code",
   "execution_count": 3,
   "id": "2a209e50",
   "metadata": {
    "scrolled": false
   },
   "outputs": [
    {
     "name": "stderr",
     "output_type": "stream",
     "text": [
      "Warning message in install.packages(\"cpm\", repos = \"http://cran.r-project.org\"):\n",
      "“installation of package ‘cpm’ had non-zero exit status”Updating HTML index of packages in '.Library'\n",
      "Making 'packages.html' ... done\n",
      "Warning message in install.packages(\"magrittr\", repos = \"http://cran.r-project.org\"):\n",
      "“installation of package ‘magrittr’ had non-zero exit status”Updating HTML index of packages in '.Library'\n",
      "Making 'packages.html' ... done\n",
      "Warning message in install.packages(\"strucchange\", repos = \"http://cran.r-project.org\"):\n",
      "“installation of package ‘strucchange’ had non-zero exit status”Updating HTML index of packages in '.Library'\n",
      "Making 'packages.html' ... done\n",
      "Warning message:\n",
      "“package ‘anomalize’ is not available (for R version 3.6.1)”also installing the dependencies ‘fansi’, ‘utf8’, ‘pkgconfig’, ‘withr’, ‘cli’, ‘generics’, ‘glue’, ‘lifecycle’, ‘pillar’, ‘R6’, ‘rlang’, ‘tibble’, ‘tidyselect’, ‘vctrs’\n",
      "\n",
      "Warning message in install.packages(\"dplyr\", repos = \"http://cran.r-project.org\"):\n",
      "“installation of package ‘fansi’ had non-zero exit status”Warning message in install.packages(\"dplyr\", repos = \"http://cran.r-project.org\"):\n",
      "“installation of package ‘utf8’ had non-zero exit status”Warning message in install.packages(\"dplyr\", repos = \"http://cran.r-project.org\"):\n",
      "“installation of package ‘cli’ had non-zero exit status”Warning message in install.packages(\"dplyr\", repos = \"http://cran.r-project.org\"):\n",
      "“installation of package ‘glue’ had non-zero exit status”Warning message in install.packages(\"dplyr\", repos = \"http://cran.r-project.org\"):\n",
      "“installation of package ‘rlang’ had non-zero exit status”Warning message in install.packages(\"dplyr\", repos = \"http://cran.r-project.org\"):\n",
      "“installation of package ‘lifecycle’ had non-zero exit status”Warning message in install.packages(\"dplyr\", repos = \"http://cran.r-project.org\"):\n",
      "“installation of package ‘vctrs’ had non-zero exit status”Warning message in install.packages(\"dplyr\", repos = \"http://cran.r-project.org\"):\n",
      "“installation of package ‘pillar’ had non-zero exit status”Warning message in install.packages(\"dplyr\", repos = \"http://cran.r-project.org\"):\n",
      "“installation of package ‘tidyselect’ had non-zero exit status”Warning message in install.packages(\"dplyr\", repos = \"http://cran.r-project.org\"):\n",
      "“installation of package ‘tibble’ had non-zero exit status”Warning message in install.packages(\"dplyr\", repos = \"http://cran.r-project.org\"):\n",
      "“installation of package ‘dplyr’ had non-zero exit status”Updating HTML index of packages in '.Library'\n",
      "Making 'packages.html' ... done\n"
     ]
    }
   ],
   "source": [
    "install.packages('cpm',repos = \"http://cran.r-project.org\")\n",
    "#install.packages('tidyverse',repos = \"http://cran.r-project.org\")\n",
    "install.packages(\"magrittr\", repos = \"http://cran.r-project.org\")\n",
    "install.packages(\"strucchange\", repos = \"http://cran.r-project.org\")\n",
    "install.packages(\"anomalize\", repos = \"http://cran.r-project.org\")\n",
    "install.packages(\"dplyr\", repos = \"http://cran.r-project.org\")"
   ]
  },
  {
   "cell_type": "code",
   "execution_count": 9,
   "id": "8f9f0819",
   "metadata": {},
   "outputs": [
    {
     "name": "stderr",
     "output_type": "stream",
     "text": [
      "also installing the dependencies ‘fansi’, ‘utf8’, ‘cli’, ‘glue’, ‘lifecycle’, ‘pillar’, ‘rlang’, ‘tibble’, ‘tidyselect’, ‘vctrs’\n",
      "\n",
      "Warning message in install.packages(\"dplyr\"):\n",
      "“installation of package ‘fansi’ had non-zero exit status”Warning message in install.packages(\"dplyr\"):\n",
      "“installation of package ‘utf8’ had non-zero exit status”Warning message in install.packages(\"dplyr\"):\n",
      "“installation of package ‘cli’ had non-zero exit status”Warning message in install.packages(\"dplyr\"):\n",
      "“installation of package ‘glue’ had non-zero exit status”Warning message in install.packages(\"dplyr\"):\n",
      "“installation of package ‘rlang’ had non-zero exit status”Warning message in install.packages(\"dplyr\"):\n",
      "“installation of package ‘lifecycle’ had non-zero exit status”Warning message in install.packages(\"dplyr\"):\n",
      "“installation of package ‘vctrs’ had non-zero exit status”Warning message in install.packages(\"dplyr\"):\n",
      "“installation of package ‘pillar’ had non-zero exit status”Warning message in install.packages(\"dplyr\"):\n",
      "“installation of package ‘tidyselect’ had non-zero exit status”Warning message in install.packages(\"dplyr\"):\n",
      "“installation of package ‘tibble’ had non-zero exit status”Warning message in install.packages(\"dplyr\"):\n",
      "“installation of package ‘dplyr’ had non-zero exit status”Updating HTML index of packages in '.Library'\n",
      "Making 'packages.html' ... done\n"
     ]
    }
   ],
   "source": [
    "install.packages(\"dplyr\")"
   ]
  },
  {
   "cell_type": "code",
   "execution_count": 10,
   "id": "8576b3a0",
   "metadata": {},
   "outputs": [
    {
     "ename": "ERROR",
     "evalue": "Error in library(dplyr): there is no package called ‘dplyr’\n",
     "output_type": "error",
     "traceback": [
      "Error in library(dplyr): there is no package called ‘dplyr’\nTraceback:\n",
      "1. library(dplyr)"
     ]
    }
   ],
   "source": [
    "library(dplyr)\n",
    "library(ggplot2)\n",
    "library(strucchange)\n",
    "require(lubridate)\n",
    "library(ICSS)\n",
    "library(EMD)\n",
    "library(hht)\n",
    "library(xts)\n",
    "library(tsbox)\n",
    "library(readxl)\n",
    "library(slider)\n",
    "library(cpm)\n",
    "library(tidyverse)\n",
    "library(anomalize)\n",
    "library(magrittr)\n",
    "\n",
    "source(\"utils.R\")\n",
    "source(\"functions-models.R\")\n",
    "source(\"anomalies.R\")\n",
    "source(\"utils.R\")\n",
    "source(\"harbinger.R\")\n",
    "source(\"multi-scale-detect.R\")"
   ]
  },
  {
   "cell_type": "code",
   "execution_count": null,
   "id": "e9a366a4",
   "metadata": {},
   "outputs": [],
   "source": []
  },
  {
   "cell_type": "code",
   "execution_count": 2,
   "id": "3087d8c1",
   "metadata": {},
   "outputs": [],
   "source": [
    "stocks_usa_name_columns <- c (\n",
    "  'Data',\n",
    "  experimento,\n",
    "   'DJI',\n",
    "   'Nasdaq',\n",
    "   'SP500',\n",
    "   'DJ Composite',\n",
    "  'USSMALLCAP2000'\n",
    ")\n",
    "\n",
    "stocks <- read_xlsx(\"dataset/Base de Dados Consolidada base line.xlsx\",sheet=\"EUA\")\n",
    "method_emd <- \"CEEMD\""
   ]
  },
  {
   "cell_type": "code",
   "execution_count": 1,
   "id": "dd02e1b9",
   "metadata": {},
   "outputs": [],
   "source": [
    "reference <- stocks[c(\"Data\", experimento)]\n",
    "\n",
    "df_results <- NULL\n",
    "\n",
    "name_serie <- \"\"\n",
    "sensitivity <- c(0)\n",
    "specificity <- c(0)\n",
    "precision <- c(0)\n",
    "recall <- c(0)\n",
    "f1 <- c(0)\n",
    "df_results <- data.frame(name_serie, f1, precision, recall)\n",
    "\n",
    "\n",
    "df_domain <- NULL\n",
    "name_domain_group <- \"\"\n",
    "\n",
    "\n",
    "SFVE <- c(0)\n",
    "SSCP <- c(0)\n",
    "STCP <- c(0)\n",
    "SSVE <- c(0)\n",
    "LT <- c(0)\n",
    "AD <- c(0)\n",
    "\n",
    "df_domain <- data.frame(name_domain_group, SFVE, SSCP,STCP, SSVE, LT, AD)"
   ]
  },
  {
   "cell_type": "code",
   "execution_count": null,
   "id": "1b5bbc0b",
   "metadata": {},
   "outputs": [],
   "source": [
    "for (name_column in stocks_usa_name_columns) {\n",
    "  if (name_column == experimento || name_column == \"Data\" || name_column == \"Tipo\") {\n",
    "    next\n",
    "  }\n",
    "  serie_df <- data.frame(setNames(list(stocks$Data, stocks[[name_column]]), c(\"time\", \"value\")))\n",
    "  #debug(multi_scale_event_detect)\n",
    "  metrics <- multi_scale_event_detect(\n",
    "    serie = serie_df,\n",
    "    frequency_date = frequency_date,\n",
    "    start_date = start_date,\n",
    "    type_events = list(\"all\"),\n",
    "    rf_dataframe = reference,\n",
    "    soft_window = 5\n",
    "  )\n",
    "  \n",
    "  df_results <- add_row(df_results,\n",
    "                        name_serie = name_column,\n",
    "                        f1 = metrics[\"F1\"],\n",
    "                        precision = metrics[\"precision\"],\n",
    "                        recall = metrics[\"recall\"])\n",
    "}"
   ]
  },
  {
   "cell_type": "code",
   "execution_count": null,
   "id": "e108631b",
   "metadata": {},
   "outputs": [],
   "source": [
    "file_metrics <- sprintf(\"files/stocks_usa_%s.csv\", \"metrics\")\n",
    "write.csv(df_results, file_metrics)"
   ]
  }
 ],
 "metadata": {
  "kernelspec": {
   "display_name": "R",
   "language": "R",
   "name": "ir"
  },
  "language_info": {
   "codemirror_mode": "r",
   "file_extension": ".r",
   "mimetype": "text/x-r-source",
   "name": "R",
   "pygments_lexer": "r",
   "version": "3.6.1"
  }
 },
 "nbformat": 4,
 "nbformat_minor": 5
}
